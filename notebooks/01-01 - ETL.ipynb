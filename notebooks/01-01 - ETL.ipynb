{
 "cells": [
  {
   "cell_type": "code",
   "execution_count": null,
   "id": "31287b37-777c-4426-a531-67daf59c750f",
   "metadata": {},
   "outputs": [],
   "source": [
    "## "
   ]
  },
  {
   "cell_type": "code",
   "execution_count": 2,
   "id": "822bbdff-d762-4b5d-8165-f845ed9d730f",
   "metadata": {},
   "outputs": [],
   "source": [
    "#!pip install pandas\n",
    "import pandas as pd # import pandas library\n",
    "\n",
    "from constants import PATH # path & others constants definition"
   ]
  },
  {
   "cell_type": "markdown",
   "id": "7d517969-001d-4435-80c7-3bcfbc4c819c",
   "metadata": {},
   "source": [
    "### Initial Exploration\n",
    "- Load Datasets\n",
    "- Check the columns names\n",
    "- Stablish a posible proposito"
   ]
  },
  {
   "cell_type": "code",
   "execution_count": 4,
   "id": "4d0841ee-32c5-4b9d-b1fe-1749c5913687",
   "metadata": {},
   "outputs": [],
   "source": [
    "# Data sets names\n",
    "cash_requests_path = 'extract - cash request - data analyst.csv'\n",
    "fees_path = 'extract - fees - data analyst - .csv'\n",
    "lexique_path = 'Lexique - Data Analyst.xlsx'\n",
    "\n",
    "# Cargar datasets\n",
    "cash_requests_df = pd.read_csv(f\"{PATH}{cash_requests_path}\")\n",
    "fees_df = pd.read_csv(f\"{PATH}{fees_path}\")\n",
    "lexique_df = pd.read_excel(f\"{PATH}{lexique_path}\", sheet_name=None)  # Load Excel Workbook"
   ]
  },
  {
   "cell_type": "code",
   "execution_count": 6,
   "id": "f8860e45-47de-4cbd-9a5f-4858b714802d",
   "metadata": {},
   "outputs": [
    {
     "name": "stdout",
     "output_type": "stream",
     "text": [
      "Cash Requests Dataset:\n",
      "     id  amount    status                     created_at  \\\n",
      "0     5   100.0  rejected  2019-12-10 19:05:21.596873+00   \n",
      "1    70   100.0  rejected   2019-12-10 19:50:12.34778+00   \n",
      "2     7   100.0  rejected   2019-12-10 19:13:35.82546+00   \n",
      "3    10    99.0  rejected  2019-12-10 19:16:10.880172+00   \n",
      "4  1594   100.0  rejected  2020-05-06 09:59:38.877376+00   \n",
      "\n",
      "                      updated_at  user_id                   moderated_at  \\\n",
      "0   2019-12-11 16:47:42.40783+00    804.0  2019-12-11 16:47:42.405646+00   \n",
      "1  2019-12-11 14:24:22.900054+00    231.0  2019-12-11 14:24:22.897988+00   \n",
      "2  2019-12-11 09:46:59.779773+00    191.0  2019-12-11 09:46:59.777728+00   \n",
      "3  2019-12-18 14:26:18.136163+00    761.0  2019-12-18 14:26:18.128407+00   \n",
      "4   2020-05-07 09:21:55.34008+00   7686.0  2020-05-07 09:21:55.320193+00   \n",
      "\n",
      "   deleted_account_id             reimbursement_date  \\\n",
      "0                 NaN  2020-01-09 19:05:21.596363+00   \n",
      "1                 NaN   2020-01-09 19:50:12.34778+00   \n",
      "2                 NaN  2020-01-09 19:13:35.825041+00   \n",
      "3                 NaN  2020-01-09 19:16:10.879606+00   \n",
      "4                 NaN         2020-06-05 22:00:00+00   \n",
      "\n",
      "  cash_request_received_date money_back_date transfer_type send_at  \\\n",
      "0                        NaN             NaN       regular     NaN   \n",
      "1                        NaN             NaN       regular     NaN   \n",
      "2                        NaN             NaN       regular     NaN   \n",
      "3                        NaN             NaN       regular     NaN   \n",
      "4                        NaN             NaN       regular     NaN   \n",
      "\n",
      "  recovery_status reco_creation reco_last_update  \n",
      "0             NaN           NaN              NaN  \n",
      "1             NaN           NaN              NaN  \n",
      "2             NaN           NaN              NaN  \n",
      "3             NaN           NaN              NaN  \n",
      "4             NaN           NaN              NaN  \n",
      "\n",
      "Fees Dataset:\n",
      "      id  cash_request_id             type    status               category  \\\n",
      "0   6537          14941.0  instant_payment  rejected                    NaN   \n",
      "1   6961          11714.0         incident  accepted  rejected_direct_debit   \n",
      "2  16296          23371.0  instant_payment  accepted                    NaN   \n",
      "3  20775          26772.0  instant_payment  accepted                    NaN   \n",
      "4  11242          19350.0  instant_payment  accepted                    NaN   \n",
      "\n",
      "   total_amount                              reason  \\\n",
      "0           5.0  Instant Payment Cash Request 14941   \n",
      "1           5.0               rejected direct debit   \n",
      "2           5.0  Instant Payment Cash Request 23371   \n",
      "3           5.0  Instant Payment Cash Request 26772   \n",
      "4           5.0  Instant Payment Cash Request 19350   \n",
      "\n",
      "                      created_at                     updated_at  \\\n",
      "0   2020-09-07 10:47:27.42315+00  2020-10-13 14:25:09.396112+00   \n",
      "1  2020-09-09 20:51:17.998653+00  2020-10-13 14:25:15.537063+00   \n",
      "2  2020-10-23 10:10:58.352972+00  2020-10-23 10:10:58.352994+00   \n",
      "3  2020-10-31 15:46:53.643958+00  2020-10-31 15:46:53.643982+00   \n",
      "4  2020-10-06 08:20:17.170432+00  2020-10-13 14:25:03.267983+00   \n",
      "\n",
      "                         paid_at from_date to_date charge_moment  \n",
      "0   2020-12-17 14:50:07.47011+00       NaN     NaN         after  \n",
      "1   2020-12-08 17:13:10.45908+00       NaN     NaN         after  \n",
      "2   2020-11-04 19:34:37.43291+00       NaN     NaN         after  \n",
      "3  2020-11-19 05:09:22.500223+00       NaN     NaN         after  \n",
      "4  2020-11-02 14:45:20.355598+00       NaN     NaN         after  \n",
      "\n",
      "Lexique (Hojas disponibles):\n",
      "dict_keys(['context - fees', 'context - cash request'])\n"
     ]
    }
   ],
   "source": [
    "# Preview the datasets structure and data\n",
    "print(\"Cash Requests Dataset:\")\n",
    "print(cash_requests_df.head())\n",
    "\n",
    "print(\"\\nFees Dataset:\")\n",
    "print(fees_df.head())\n",
    "\n",
    "print(\"\\nLexique (Hojas disponibles):\")\n",
    "print(lexique_df.keys())"
   ]
  },
  {
   "cell_type": "markdown",
   "id": "fcc13d6e-6aec-4bdc-9c12-8ff3170adfaf",
   "metadata": {},
   "source": [
    "### Check Relation Between Datasets\n",
    "- Identify possible relations between \"cash request\" & \"fees\"\n",
    "- Check null and empty values\n",
    "- Check duplicate values (groups)"
   ]
  },
  {
   "cell_type": "code",
   "execution_count": 8,
   "id": "2cd0dcbc-d319-466e-a9ef-f0ad7d2e5ea9",
   "metadata": {},
   "outputs": [
    {
     "name": "stdout",
     "output_type": "stream",
     "text": [
      "\n",
      "RELATIONS AND DATA PROBLEMS SUMMARY:\n",
      "  Total fees records: 21061\n",
      "  Total cash requests records: 23970\n",
      "  Matched fees with cash requests: 21057\n",
      "  Unmatched fees (missing cash requests): 4\n",
      "  Duplicate cash_request_id in fees: 8127\n"
     ]
    }
   ],
   "source": [
    "# Merge to relate the Datasets\n",
    "fees_with_cash_requests = fees_df.merge(cash_requests_df, left_on='cash_request_id', right_on='id', how='left')\n",
    "\n",
    "# Identify the nulls and duplicates values\n",
    "missing_cash_requests = fees_with_cash_requests['id_y'].isnull().sum()\n",
    "duplicates_in_fees = fees_df['cash_request_id'].duplicated().sum()\n",
    "\n",
    "# Relation Summary between Datasets\n",
    "relationship_summary = {\n",
    "    \"Total fees records\": len(fees_df),\n",
    "    \"Total cash requests records\": len(cash_requests_df),\n",
    "    \"Matched fees with cash requests\": len(fees_with_cash_requests) - missing_cash_requests,\n",
    "    \"Unmatched fees (missing cash requests)\": missing_cash_requests,\n",
    "    \"Duplicate cash_request_id in fees\": duplicates_in_fees,\n",
    "}\n",
    "\n",
    "# Display the summary results\n",
    "print(\"\\nRELATIONS AND DATA PROBLEMS SUMMARY:\")\n",
    "for key, value in relationship_summary.items():\n",
    "    print(f\"  {key}: {value}\")"
   ]
  }
 ],
 "metadata": {
  "kernelspec": {
   "display_name": "Python 3 (ipykernel)",
   "language": "python",
   "name": "python3"
  },
  "language_info": {
   "codemirror_mode": {
    "name": "ipython",
    "version": 3
   },
   "file_extension": ".py",
   "mimetype": "text/x-python",
   "name": "python",
   "nbconvert_exporter": "python",
   "pygments_lexer": "ipython3",
   "version": "3.12.7"
  }
 },
 "nbformat": 4,
 "nbformat_minor": 5
}
