{
 "cells": [
  {
   "cell_type": "code",
   "execution_count": 7,
   "id": "190f1362-bb5f-44ba-91cf-2f53740ac27c",
   "metadata": {},
   "outputs": [],
   "source": [
    "#!pip install pandas\n",
    "import pandas as pd # import pandas library\n",
    "\n",
    "from constants import PATH # path & others constants definition"
   ]
  },
  {
   "cell_type": "markdown",
   "id": "eeb6230c-951e-491f-8fa1-5ba2b354d348",
   "metadata": {},
   "source": [
    "### Data cleaning and consolidation\n",
    "- Exclude not matching relation records\n",
    "- Create a new dataset structure, fees and cash requests\n",
    "- Create a new column \"cohort_moth\" to facilitate the cohort analisys"
   ]
  },
  {
   "cell_type": "code",
   "execution_count": 34,
   "id": "5f819791-0032-455e-a8f2-13e3c9b5272f",
   "metadata": {},
   "outputs": [],
   "source": [
    "# Data sets names\n",
    "cash_requests_path = 'extract - cash request - data analyst.csv'\n",
    "fees_path = 'extract - fees - data analyst - .csv'\n",
    "lexique_path = 'Lexique - Data Analyst.xlsx'\n",
    "\n",
    "# Load datasets\n",
    "cash_requests_df = pd.read_csv(f\"{PATH}{cash_requests_path}\")\n",
    "fees_df = pd.read_csv(f\"{PATH}{fees_path}\")"
   ]
  },
  {
   "cell_type": "code",
   "execution_count": 21,
   "id": "55afaa96-428b-4194-bb79-4a2784349047",
   "metadata": {},
   "outputs": [],
   "source": [
    "# Merge to relate the Datasets\n",
    "# fees->cash_request_id = cash_requests->id\n",
    "fees_with_cash_requests = fees_df.merge(cash_requests_df, left_on='cash_request_id', right_on='id', how='left') \n",
    "\n",
    "# Exclude records with no relation\n",
    "fees_cleaned = fees_with_cash_requests[~fees_with_cash_requests['id_y'].isnull()].copy()\n",
    "\n",
    "# Rename columns and consolidate the data\n",
    "fees_cleaned.rename(\n",
    "    columns={\n",
    "        'id_x': 'fee_id',\n",
    "        'id_y': 'cash_request_id',\n",
    "        'created_at_x': 'fee_created_at',\n",
    "        'created_at_y': 'cash_request_created_at',\n",
    "        'amount': 'cash_request_amount'  # Asegúrate de que 'amount' se renombre correctamente\n",
    "    }, inplace=True    \n",
    ")"
   ]
  },
  {
   "cell_type": "code",
   "execution_count": 23,
   "id": "4fbcc582-73d8-461c-9095-3bdf121874b0",
   "metadata": {},
   "outputs": [
    {
     "name": "stdout",
     "output_type": "stream",
     "text": [
      "\n",
      "Consolidated dataset saved to: ./project_dataset/consolidated_ironhack_data.csv\n"
     ]
    },
    {
     "name": "stderr",
     "output_type": "stream",
     "text": [
      "/var/folders/g2/dsm99_hd0c9_m_6qhbpwpvl80000gn/T/ipykernel_87964/3793308392.py:2: UserWarning: Converting to PeriodArray/Index representation will drop timezone information.\n",
      "  fees_cleaned['cohort_month'] = pd.to_datetime(fees_cleaned['cash_request_created_at']).dt.to_period('M')\n"
     ]
    }
   ],
   "source": [
    "# Create the new column \"cohort_month\" for future analysis\n",
    "fees_cleaned['cohort_month'] = pd.to_datetime(fees_cleaned['cash_request_created_at']).dt.to_period('M')\n",
    "\n",
    "# Save the new data set\n",
    "consolidated_file_path = f'{PATH}consolidated_ironhack_data.csv'\n",
    "fees_cleaned.to_csv(consolidated_file_path, index=False)\n",
    "\n",
    "print(f\"\\nConsolidated dataset saved to: {consolidated_file_path}\")\n"
   ]
  }
 ],
 "metadata": {
  "kernelspec": {
   "display_name": "Python 3 (ipykernel)",
   "language": "python",
   "name": "python3"
  },
  "language_info": {
   "codemirror_mode": {
    "name": "ipython",
    "version": 3
   },
   "file_extension": ".py",
   "mimetype": "text/x-python",
   "name": "python",
   "nbconvert_exporter": "python",
   "pygments_lexer": "ipython3",
   "version": "3.12.7"
  }
 },
 "nbformat": 4,
 "nbformat_minor": 5
}
