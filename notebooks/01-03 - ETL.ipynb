{
 "cells": [
  {
   "cell_type": "code",
   "execution_count": 1,
   "id": "dc07229b-6f9f-468f-b092-affce6801f15",
   "metadata": {},
   "outputs": [],
   "source": [
    "import pandas as pd # import pandas library\n",
    "import matplotlib.pyplot as plt #import pyplot library\n",
    "\n",
    "from constants import PATH # path & others constants definition"
   ]
  },
  {
   "cell_type": "code",
   "execution_count": 2,
   "id": "d85d42c9-1981-40d3-a01c-e9a699af0126",
   "metadata": {},
   "outputs": [
    {
     "name": "stdout",
     "output_type": "stream",
     "text": [
      "cash \n",
      "                  id        amount        user_id  deleted_account_id\n",
      "count  23970.000000  23970.000000   21867.000000         2104.000000\n",
      "mean   13910.966124     82.720818   32581.250789         9658.755228\n",
      "std     7788.117214     26.528065   27618.565773         7972.743249\n",
      "min        3.000000      1.000000      34.000000           91.000000\n",
      "25%     7427.250000     50.000000   10804.000000         3767.000000\n",
      "50%    14270.500000    100.000000   23773.000000         6121.500000\n",
      "75%    20607.750000    100.000000   46965.000000        16345.000000\n",
      "max    27010.000000    200.000000  103719.000000        30445.000000\n",
      "\n",
      "fees \n",
      "                  id  cash_request_id  total_amount\n",
      "count  21061.000000     21057.000000  21061.000000\n",
      "mean   10645.355111     16318.449162      5.000237\n",
      "std     6099.315256      6656.149949      0.034453\n",
      "min        1.000000      1456.000000      5.000000\n",
      "25%     5385.000000     11745.000000      5.000000\n",
      "50%    10652.000000     17160.000000      5.000000\n",
      "75%    15925.000000     21796.000000      5.000000\n",
      "max    21193.000000     27010.000000     10.000000\n"
     ]
    }
   ],
   "source": [
    "# Data sets names\n",
    "cash_requests_path = 'extract - cash request - data analyst.csv'\n",
    "fees_path = 'extract - fees - data analyst - .csv'\n",
    "\n",
    "# Load datasets\n",
    "cash_requests_df = pd.read_csv(f\"{PATH}{cash_requests_path}\")\n",
    "fees_df = pd.read_csv(f\"{PATH}{fees_path}\")\n",
    "\n",
    "print('cash \\n',cash_requests_df.describe())\n",
    "print()\n",
    "print('fees \\n',fees_df.describe())"
   ]
  },
  {
   "cell_type": "code",
   "execution_count": 3,
   "id": "157ec9ab-af8c-423a-a1b8-8f1eb3c940be",
   "metadata": {},
   "outputs": [
    {
     "name": "stdout",
     "output_type": "stream",
     "text": [
      "               id_x  cash_request_id  total_amount          id_y        amount\n",
      "count  21057.000000     21057.000000  21057.000000  21057.000000  21057.000000\n",
      "mean   10646.670228     16318.449162      5.000237  16318.449162     81.833547\n",
      "std     6099.136169      6656.149949      0.034457   6656.149949     26.945058\n",
      "min        1.000000      1456.000000      5.000000   1456.000000      1.000000\n",
      "25%     5388.000000     11745.000000      5.000000  11745.000000     50.000000\n",
      "50%    10654.000000     17160.000000      5.000000  17160.000000    100.000000\n",
      "75%    15926.000000     21796.000000      5.000000  21796.000000    100.000000\n",
      "max    21193.000000     27010.000000     10.000000  27010.000000    200.000000\n",
      "\n",
      "fees cleaned\n",
      "             fee_id  cash_request_id  total_amount  cash_request_id  \\\n",
      "count  21057.000000     21057.000000  21057.000000     21057.000000   \n",
      "mean   10646.670228     16318.449162      5.000237     16318.449162   \n",
      "std     6099.136169      6656.149949      0.034457      6656.149949   \n",
      "min        1.000000      1456.000000      5.000000      1456.000000   \n",
      "25%     5388.000000     11745.000000      5.000000     11745.000000   \n",
      "50%    10654.000000     17160.000000      5.000000     17160.000000   \n",
      "75%    15926.000000     21796.000000      5.000000     21796.000000   \n",
      "max    21193.000000     27010.000000     10.000000     27010.000000   \n",
      "\n",
      "             amount  \n",
      "count  21057.000000  \n",
      "mean      81.833547  \n",
      "std       26.945058  \n",
      "min        1.000000  \n",
      "25%       50.000000  \n",
      "50%      100.000000  \n",
      "75%      100.000000  \n",
      "max      200.000000  \n"
     ]
    }
   ],
   "source": [
    "# Merge to relate the Datasets\n",
    "fees_with_cash_requests = fees_df.merge(cash_requests_df[['id', 'created_at', 'amount']], left_on='cash_request_id', right_on='id', how='left') \n",
    "\n",
    "# Exclude records with no relation\n",
    "fees_cleaned = fees_with_cash_requests[~fees_with_cash_requests['id_y'].isnull()].copy()\n",
    "\n",
    "print(fees_cleaned.describe())\n",
    "\n",
    "# Rename columns and consolidate the data\n",
    "fees_cleaned.rename(\n",
    "    columns={\n",
    "        'id_x': 'fee_id',\n",
    "        'id_y': 'cash_request_id',\n",
    "        'created_at_x': 'fee_created_at',\n",
    "        'created_at_y': 'cash_request_created_at',\n",
    "        'amount_y': 'cash_request_amount'\n",
    "    }, inplace=True\n",
    ")\n",
    "print('\\nfees cleaned')\n",
    "print(fees_cleaned.describe())"
   ]
  },
  {
   "cell_type": "code",
   "execution_count": 4,
   "id": "4b8c938c-8f6b-467f-9762-7bc1379decae",
   "metadata": {},
   "outputs": [
    {
     "name": "stdout",
     "output_type": "stream",
     "text": [
      "\n",
      "Descriptive Statistives (Preview)\n",
      "             fee_id  cash_request_id  total_amount  cash_request_id  \\\n",
      "count  21057.000000     21057.000000  21057.000000     21057.000000   \n",
      "mean   10646.670228     16318.449162      5.000237     16318.449162   \n",
      "std     6099.136169      6656.149949      0.034457      6656.149949   \n",
      "min        1.000000      1456.000000      5.000000      1456.000000   \n",
      "25%     5388.000000     11745.000000      5.000000     11745.000000   \n",
      "50%    10654.000000     17160.000000      5.000000     17160.000000   \n",
      "75%    15926.000000     21796.000000      5.000000     21796.000000   \n",
      "max    21193.000000     27010.000000     10.000000     27010.000000   \n",
      "\n",
      "             amount  \n",
      "count  21057.000000  \n",
      "mean      81.833547  \n",
      "std       26.945058  \n",
      "min        1.000000  \n",
      "25%       50.000000  \n",
      "50%      100.000000  \n",
      "75%      100.000000  \n",
      "max      200.000000  \n",
      "\n",
      "Null values in columns:\n",
      "fee_id                         0\n",
      "cash_request_id                0\n",
      "type                           0\n",
      "status                         0\n",
      "category                   18861\n",
      "total_amount                   0\n",
      "reason                         0\n",
      "fee_created_at                 0\n",
      "updated_at                     0\n",
      "paid_at                     5526\n",
      "from_date                  13291\n",
      "to_date                    13291\n",
      "charge_moment                  0\n",
      "cash_request_id                0\n",
      "cash_request_created_at        0\n",
      "amount                         0\n",
      "dtype: int64\n"
     ]
    }
   ],
   "source": [
    "# Descriptive analysis\n",
    "print(\"\\nDescriptive Statistives (Preview)\")\n",
    "print(fees_cleaned.describe())\n",
    "\n",
    "# Null values\n",
    "missing_values_summary = fees_cleaned.isnull().sum()\n",
    "print(\"\\nNull values in columns:\")\n",
    "print(missing_values_summary)\n",
    "\n",
    "# Visualización de montos de solicitudes\n",
    "\n",
    "# plt.hist(fees_cleaned['cash_request_amount'].dropna(), bins=50, edgecolor='k', alpha=0.7)\n",
    "# plt.title('Distribución de Montos de Solicitudes')\n",
    "# plt.xlabel('Monto')\n",
    "# plt.ylabel('Frecuencia')\n",
    "# plt.show()\n"
   ]
  }
 ],
 "metadata": {
  "kernelspec": {
   "display_name": "Python 3 (ipykernel)",
   "language": "python",
   "name": "python3"
  },
  "language_info": {
   "codemirror_mode": {
    "name": "ipython",
    "version": 3
   },
   "file_extension": ".py",
   "mimetype": "text/x-python",
   "name": "python",
   "nbconvert_exporter": "python",
   "pygments_lexer": "ipython3",
   "version": "3.12.7"
  }
 },
 "nbformat": 4,
 "nbformat_minor": 5
}
