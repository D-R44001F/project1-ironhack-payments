{
 "cells": [
  {
   "cell_type": "markdown",
   "id": "59b72b52-60ba-4dad-a1ba-1c12ffc703bf",
   "metadata": {},
   "source": [
    "# Project Plan: Cohort Analysis for IronHack Payments"
   ]
  },
  {
   "cell_type": "markdown",
   "id": "c6596f49-d8ac-417b-8416-d0b0b30734a1",
   "metadata": {},
   "source": [
    "## Phase 1: Planning and Understanding the Project"
   ]
  },
  {
   "cell_type": "markdown",
   "id": "002ea77d-d901-4e3b-8b30-f70a6899a81f",
   "metadata": {},
   "source": [
    "### Define Objectives:\n",
    "- Understand key metrics: service frequency, incident rate, revenue generated, and one additional metric.\n",
    "- Ensure the analysis is clear, well-documented, and actionable for decision-making at IronHack Payments.\n",
    "\n",
    "### Familiarization with the Data:\n",
    "- Review the structure and content of the datasets (`cash requests`, `fees`) and the definitions in the Lexique file."
   ]
  },
  {
   "cell_type": "markdown",
   "id": "56d00faa-ac4e-440b-8261-751f6c9949dd",
   "metadata": {},
   "source": [
    "## Phase 2: Exploratory Data Analysis (EDA)"
   ]
  },
  {
   "cell_type": "markdown",
   "id": "98f77b88-b366-4c4d-887d-d20b83d18744",
   "metadata": {},
   "source": [
    "### Load and Inspect Data:\n",
    "- Examine the structure, data types, and relationships between datasets.\n",
    "- Analyze distributions and key descriptive statistics.\n",
    "\n",
    "### Detect Data Quality Issues:\n",
    "- Identify missing values, duplicates, and inconsistent formats.\n",
    "- Document detected issues and plan their resolution.\n",
    "\n",
    "### Data Visualization:\n",
    "- Create visualizations to explore trends and patterns (e.g., histogram of amounts, usage frequency by month)."
   ]
  },
  {
   "cell_type": "markdown",
   "id": "9cf57142-1e57-442f-a0ec-224e990a6483",
   "metadata": {},
   "source": [
    "## Phase 3: Data Cleaning and Preparation"
   ]
  },
  {
   "cell_type": "markdown",
   "id": "fd8650a3-2cf3-4b4e-9129-ed4f3808ef7a",
   "metadata": {},
   "source": [
    "### Data Cleaning:\n",
    "- Correct inconsistent or missing values.\n",
    "- Standardize formats (e.g., dates, categories).\n",
    "\n",
    "### Data Enrichment:\n",
    "- Create new columns derived from existing data (e.g., cohorts based on creation month).\n",
    "\n",
    "### Data Integration:\n",
    "- Merge the `cash requests` and `fees` datasets into a unified dataset.\n",
    "- Ensure consistency in relationships between datasets."
   ]
  },
  {
   "cell_type": "markdown",
   "id": "360ae4f0-15d7-463b-b6a7-9c1f2bd21876",
   "metadata": {},
   "source": [
    "## Phase 4: Cohort Analysis"
   ]
  },
  {
   "cell_type": "markdown",
   "id": "63125dd8-c25d-4544-abd8-5fee59313a97",
   "metadata": {},
   "source": [
    "### Define Cohorts:\n",
    "- Group users by the creation month of their first cash advance request.\n",
    "\n",
    "### Calculate Key Metrics:\n",
    "- **Service Frequency:** Count of interactions per user and month.\n",
    "- **Incident Rate:** Proportion of requests with incidents.\n",
    "- **Revenue Generated:** Total revenue per cohort and month.\n",
    "- **Additional Metric:** Propose and calculate a relevant metric (e.g., monthly retention).\n",
    "\n",
    "### Visualize Results:\n",
    "- Create charts to showcase the monthly evolution of metrics."
   ]
  },
  {
   "cell_type": "markdown",
   "id": "4f59d5e6-9de1-4785-b6ee-0f8cad5598f4",
   "metadata": {},
   "source": [
    "## Phase 5: Reporting and Presentation"
   ]
  },
  {
   "cell_type": "markdown",
   "id": "438b335c-b80b-4e8f-8e45-3af9ef14812b",
   "metadata": {},
   "source": [
    "### EDA Report:\n",
    "- Summarize key findings on data quality and characteristics.\n",
    "\n",
    "### Cohort Analysis Report:\n",
    "- Document results, observed patterns, and interpretations.\n",
    "\n",
    "### Tableau Dashboard:\n",
    "- Build an interactive dashboard with key metrics and dynamic visualizations.\n",
    "\n",
    "### Presentation:\n",
    "Prepare a 4-slide presentation highlighting:\n",
    "1. **Project Summary**\n",
    "2. **Key Findings**\n",
    "3. **Insights and Recommendations**\n",
    "4. **Demonstration of the Analysis and Dashboard**"
   ]
  }
 ],
 "metadata": {
  "kernelspec": {
   "display_name": "Python 3 (ipykernel)",
   "language": "python",
   "name": "python3"
  },
  "language_info": {
   "codemirror_mode": {
    "name": "ipython",
    "version": 3
   },
   "file_extension": ".py",
   "mimetype": "text/x-python",
   "name": "python",
   "nbconvert_exporter": "python",
   "pygments_lexer": "ipython3",
   "version": "3.12.7"
  }
 },
 "nbformat": 4,
 "nbformat_minor": 5
}
